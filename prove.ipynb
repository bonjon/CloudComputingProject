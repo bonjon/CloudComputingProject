{
 "cells": [
  {
   "cell_type": "code",
   "execution_count": null,
   "metadata": {},
   "outputs": [],
   "source": [
    "import requests\n",
    "import pandas as pd"
   ]
  },
  {
   "cell_type": "code",
   "execution_count": null,
   "metadata": {},
   "outputs": [],
   "source": [
    "API_KEY = \"PKG95PV0R6DI0C2G522P\"\n",
    "API_SECRET = \"knWqSpYCGrkQopBig8K4dIWYNASADqzcjgalRx8O\"\n",
    "BASE_URL = \"https://data.alpaca.markets/\"\n",
    "parameters = {\n",
    "    \"start\": \"2021-10-01T0:00:00Z\",\n",
    "    \"timeframe\": \"1Day\",\n",
    "    \"symbols\": \"AAPL,NFLX\",  # TSLA,AMZN,META,\n",
    "    \"adjustment\": \"raw\",\n",
    "}\n",
    "headers = {\"Apca-Api-Key-Id\": API_KEY, \"Apca-Api-Secret-Key\": API_SECRET}\n",
    "response = requests.get(\n",
    "    url=BASE_URL + \"v2/stocks/bars?\", headers=headers, params=parameters\n",
    ")\n",
    "#st.title(\"Data Analytics\")\n",
    "\n",
    "SYMBOLS = {\n",
    "    \"Apple\": \"AAPL\",\n",
    "    #    \"Tesla\": \"TSLA\",\n",
    "    #    \"Amazon\": \"AMZN\",\n",
    "    #    \"Meta\": \"META\",\n",
    "    \"Netflix\": \"NFLX\",\n",
    "}\n",
    "print(response)"
   ]
  },
  {
   "cell_type": "code",
   "execution_count": null,
   "metadata": {},
   "outputs": [],
   "source": [
    "def get_data(): \n",
    "    for sym, items in sorted(response.json()[\"bars\"].items()):\n",
    "        #print(f\"symbol: {sym}\")\n",
    "        #print(f\"items: {items}\")\n",
    "        for item in items:\n",
    "            #print(\"item:\", item)\n",
    "            item.update({\"s\": sym})\n",
    "            yield item\n",
    "\n",
    "print([elem for elem in get_data()])"
   ]
  },
  {
   "cell_type": "code",
   "execution_count": null,
   "metadata": {},
   "outputs": [],
   "source": [
    "df = pd.DataFrame([elem for elem in get_data()])"
   ]
  },
  {
   "cell_type": "code",
   "execution_count": null,
   "metadata": {},
   "outputs": [],
   "source": [
    "print(df)"
   ]
  }
 ],
 "metadata": {
  "kernelspec": {
   "display_name": "Python 3.8.10 64-bit",
   "language": "python",
   "name": "python3"
  },
  "language_info": {
   "codemirror_mode": {
    "name": "ipython",
    "version": 3
   },
   "file_extension": ".py",
   "mimetype": "text/x-python",
   "name": "python",
   "nbconvert_exporter": "python",
   "pygments_lexer": "ipython3",
   "version": "3.8.10"
  },
  "orig_nbformat": 4,
  "vscode": {
   "interpreter": {
    "hash": "916dbcbb3f70747c44a77c7bcd40155683ae19c65e1c03b4aa3499c5328201f1"
   }
  }
 },
 "nbformat": 4,
 "nbformat_minor": 2
}
